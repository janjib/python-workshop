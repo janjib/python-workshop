{
  "nbformat": 4,
  "nbformat_minor": 0,
  "metadata": {
    "colab": {
      "name": "PythonWorkshop.ipynb",
      "provenance": [],
      "authorship_tag": "ABX9TyOqAtjgu5zShCuK2A2j9B7y",
      "include_colab_link": true
    },
    "kernelspec": {
      "name": "python3",
      "display_name": "Python 3"
    },
    "language_info": {
      "name": "python"
    }
  },
  "cells": [
    {
      "cell_type": "markdown",
      "metadata": {
        "id": "view-in-github",
        "colab_type": "text"
      },
      "source": [
        "<a href=\"https://colab.research.google.com/github/janjib/python-workshop/blob/main/PythonWorkshop.ipynb\" target=\"_parent\"><img src=\"https://colab.research.google.com/assets/colab-badge.svg\" alt=\"Open In Colab\"/></a>"
      ]
    },
    {
      "cell_type": "code",
      "metadata": {
        "id": "zYSh7DVIiu3b"
      },
      "source": [
        "#Single line comment\n",
        "\n",
        "'''\n",
        "Multi\n",
        "Line Comment\n",
        "'''\n",
        "\n",
        "anything = 'najib hensem'\n",
        "\n",
        "#To enable line number --> CTRL + M and L"
      ],
      "execution_count": null,
      "outputs": []
    },
    {
      "cell_type": "code",
      "metadata": {
        "colab": {
          "base_uri": "https://localhost:8080/"
        },
        "id": "N1oWy0zNmE5_",
        "outputId": "ca1ef7fa-3d76-4b73-8abd-70cf6f625d66"
      },
      "source": [
        "#write first python programming\n",
        "print('Hello World')\n",
        "print(\"Hello World\")"
      ],
      "execution_count": null,
      "outputs": [
        {
          "output_type": "stream",
          "text": [
            "Hello World\n",
            "Hello World\n"
          ],
          "name": "stdout"
        }
      ]
    },
    {
      "cell_type": "code",
      "metadata": {
        "colab": {
          "base_uri": "https://localhost:8080/"
        },
        "id": "v5z47XW0nQsP",
        "outputId": "34ad527b-fb53-43d9-f50d-5d86a2122d7d"
      },
      "source": [
        "#variables\n",
        "\n",
        "name='Rujhan'\n",
        "print(name)\n",
        "\n",
        "# type() use to determine data type\n",
        "print(type(10))"
      ],
      "execution_count": null,
      "outputs": [
        {
          "output_type": "stream",
          "text": [
            "Rujhan\n",
            "<class 'int'>\n"
          ],
          "name": "stdout"
        }
      ]
    },
    {
      "cell_type": "code",
      "metadata": {
        "colab": {
          "base_uri": "https://localhost:8080/"
        },
        "id": "hxZdw_uPpe4x",
        "outputId": "316e9787-07bf-43b4-a659-2f0856ff820b"
      },
      "source": [
        "#String data type\n",
        "#sequence of character\n",
        "\n",
        "course='Workshop'\n",
        "\n",
        "# W O R K S H O P\n",
        "# 0 1 2 3 4 5 6 7\n",
        "\n",
        "print(course)\n",
        "print(course[1])"
      ],
      "execution_count": null,
      "outputs": [
        {
          "output_type": "stream",
          "text": [
            "Workshop\n",
            "o\n"
          ],
          "name": "stdout"
        }
      ]
    },
    {
      "cell_type": "code",
      "metadata": {
        "colab": {
          "base_uri": "https://localhost:8080/"
        },
        "id": "agQ-9BtTrqSh",
        "outputId": "5c4a76b6-1f71-4c29-e280-2b44ab07e9e1"
      },
      "source": [
        "# How to take user input in python\n",
        "#input use to take input\n",
        "\n",
        "num1 = int(input(\"Write a number : \"))\n",
        "num2 = int(input(\"Write a number : \"))\n",
        "res = num1 // num2\n",
        "\n",
        "\n",
        "print(f'Result : {res} ')"
      ],
      "execution_count": null,
      "outputs": [
        {
          "output_type": "stream",
          "text": [
            "Write a number : 15\n",
            "Write a number : 3\n",
            "Result : 5 \n"
          ],
          "name": "stdout"
        }
      ]
    },
    {
      "cell_type": "code",
      "metadata": {
        "colab": {
          "base_uri": "https://localhost:8080/"
        },
        "id": "HluA0Y8tvG4r",
        "outputId": "92dc77c0-1167-421a-91b4-e2cde98f7cad"
      },
      "source": [
        "#Guess a number game\n",
        "#Your number will generate random number\n",
        "#we need to predict number in 4 attempt\n",
        "\n",
        "import random\n",
        "\n",
        "print(f'What is your name ?')\n",
        "name = input()\n",
        "startNumber = 1\n",
        "lastNumber = 10\n",
        "numberComputer = random.randint(startNumber,lastNumber)\n",
        "attempt=0\n",
        "maxAttempt=4\n",
        "print(f'Please wait {name},You need to predict the number in {maxAttempt} attempts,the number range is {startNumber} - {lastNumber}')\n",
        "while attempt<maxAttempt :\n",
        "  yourNumber=int(input('Enter your guess '))\n",
        "  attempt += 1\n",
        "  if yourNumber > numberComputer :\n",
        "    print(f'You Guessing to high')\n",
        "    \n",
        "    print(f'You have {maxAttempt-attempt} attempts left ')\n",
        "\n",
        "  elif yourNumber < numberComputer :\n",
        "    print(f'You Guessing to low')\n",
        "    \n",
        "    print(f'You have {maxAttempt-attempt} attempts left ')\n",
        "\n",
        "  else :\n",
        "     print('You right')\n",
        "     print(f'Congrats {name}') \n",
        "     print(f'The right answer is {numberComputer}')\n",
        "     break\n",
        "\n",
        "print(f'game over')  \n",
        "print(f'The right answer is {numberComputer}')"
      ],
      "execution_count": null,
      "outputs": [
        {
          "output_type": "stream",
          "text": [
            "What is your name ?\n",
            "Rujhan\n",
            "Please wait Rujhan,You need to predict the number in 4 attempts,the number range is 1 - 10\n",
            "Enter your guess 1\n",
            "You Guessing to low\n",
            "You have 3 attempts left \n",
            "Enter your guess 1\n",
            "You Guessing to low\n",
            "You have 2 attempts left \n",
            "Enter your guess 1\n",
            "You Guessing to low\n",
            "You have 1 attempts left \n",
            "Enter your guess 1\n",
            "You Guessing to low\n",
            "You have 0 attempts left \n",
            "game over\n",
            "The right answer is 9\n"
          ],
          "name": "stdout"
        }
      ]
    }
  ]
}